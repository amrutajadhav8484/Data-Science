{
 "cells": [
  {
   "cell_type": "code",
   "execution_count": 1,
   "id": "4bd227d8-f178-4c33-a9f5-a10c55c9d8e2",
   "metadata": {},
   "outputs": [],
   "source": [
    "import numpy as np\n",
    "import matplotlib.pyplot as plt\n",
    "%matplotlib inline"
   ]
  },
  {
   "cell_type": "code",
   "execution_count": 2,
   "id": "32dbb955-4466-4cd0-af02-053f5c421f77",
   "metadata": {},
   "outputs": [],
   "source": [
    "#define our dataset\n",
    "dataset=[11,10,12,14,12,15,14,13,15,102,12,14,17,19,107,10,13,12,14,12,108,12,11]"
   ]
  },
  {
   "cell_type": "code",
   "execution_count": 3,
   "id": "2e086581-365f-4b0a-ab1b-cb45bc5fe2ea",
   "metadata": {},
   "outputs": [
    {
     "data": {
      "text/plain": [
       "(array([20.,  0.,  0.,  0.,  0.,  0.,  0.,  0.,  0.,  3.]),\n",
       " array([ 10. ,  19.8,  29.6,  39.4,  49.2,  59. ,  68.8,  78.6,  88.4,\n",
       "         98.2, 108. ]),\n",
       " <BarContainer object of 10 artists>)"
      ]
     },
     "execution_count": 3,
     "metadata": {},
     "output_type": "execute_result"
    },
    {
     "data": {
      "image/png": "[encoded data removed]",
      "text/plain": [
       "<Figure size 640x480 with 1 Axes>"
      ]
     },
     "metadata": {},
     "output_type": "display_data"
    }
   ],
   "source": [
    "plt.hist(dataset)"
   ]
  },
  {
   "cell_type": "code",
   "execution_count": 13,
   "id": "3f6e2cc1-da5a-46c7-aaf4-6efcbbfc630b",
   "metadata": {},
   "outputs": [],
   "source": [
    "\"\"\"outliers=[]\n",
    "\n",
    "def detect_outliers(data):\n",
    "  threshold=3 ## 3 std deviation\n",
    "  mean=np.mean(data)\n",
    "  std=np.std(data)\n",
    "\n",
    "  for i in data:\n",
    "    z_score=(i-mean)/std\n",
    "    if np.abs(z_score)> threshold:\n",
    "     outliers.append(i)\n",
    "\n",
    "    return outliers\"\"'\n",
    "\n",
    "\n"
   ]
  },
  {
   "cell_type": "code",
   "execution_count": 15,
   "id": "2456b8a5-5225-4f26-a20e-c2e61c1365e9",
   "metadata": {},
   "outputs": [],
   "source": [
    "outliers=[]\n",
    "\n",
    "def detect_outliers(data):\n",
    "  threshold=3 ## 3 std deviation\n",
    "  mean=np.mean(data)\n",
    "  std=np.std(data)\n",
    "\n",
    "  for i in data:\n",
    "    z_score=(i-mean)/std\n",
    "    if np.abs(z_score)> threshold:\n",
    "      outliers.append(i)\n",
    "\n",
    "  return outliers"
   ]
  },
  {
   "cell_type": "code",
   "execution_count": 16,
   "id": "c1f19574-dce7-44d6-bff5-49be675f2f96",
   "metadata": {},
   "outputs": [
    {
     "data": {
      "text/plain": [
       "[]"
      ]
     },
     "execution_count": 16,
     "metadata": {},
     "output_type": "execute_result"
    }
   ],
   "source": [
    "detect_outliers(dataset)"
   ]
  },
  {
   "cell_type": "markdown",
   "id": "fb8385af-32b7-424b-aa75-fed673fb7d00",
   "metadata": {},
   "source": [
    "# IQR\n",
    "# 1.sort data\n",
    "# calculate Q1 AND Q3\n",
    "# calculate LOWER-FENCE= Q1-1.5(IQR)\n",
    "# calculate UPPER-FENCE= Q3+1.5(IQR)"
   ]
  },
  {
   "cell_type": "code",
   "execution_count": 26,
   "id": "6da1f627-1cd5-4df5-a991-56cb99c2adec",
   "metadata": {},
   "outputs": [
    {
     "data": {
      "text/plain": [
       "[10,\n",
       " 10,\n",
       " 11,\n",
       " 11,\n",
       " 12,\n",
       " 12,\n",
       " 12,\n",
       " 12,\n",
       " 12,\n",
       " 12,\n",
       " 13,\n",
       " 13,\n",
       " 14,\n",
       " 14,\n",
       " 14,\n",
       " 14,\n",
       " 15,\n",
       " 15,\n",
       " 17,\n",
       " 19,\n",
       " 102,\n",
       " 107,\n",
       " 108]"
      ]
     },
     "execution_count": 26,
     "metadata": {},
     "output_type": "execute_result"
    }
   ],
   "source": [
    "dataset=sorted(dataset)\n",
    "dataset"
   ]
  },
  {
   "cell_type": "code",
   "execution_count": 29,
   "id": "ac8129f8-e652-47ad-b5b5-63d5c91c50f8",
   "metadata": {},
   "outputs": [],
   "source": [
    "Q1,Q3=np.percentile(dataset,[25,75])"
   ]
  },
  {
   "cell_type": "code",
   "execution_count": 30,
   "id": "e6f71fe1-cb4c-4784-98c2-b00aa117ab21",
   "metadata": {},
   "outputs": [
    {
     "name": "stdout",
     "output_type": "stream",
     "text": [
      "12.0 15.0\n"
     ]
    }
   ],
   "source": [
    "print(Q1,Q3)"
   ]
  },
  {
   "cell_type": "code",
   "execution_count": 31,
   "id": "c40617ef-8849-49e7-894e-67cf79508f05",
   "metadata": {},
   "outputs": [
    {
     "name": "stdout",
     "output_type": "stream",
     "text": [
      "3.0\n"
     ]
    }
   ],
   "source": [
    "iqr=Q3-Q1\n",
    "print(iqr)"
   ]
  },
  {
   "cell_type": "code",
   "execution_count": 34,
   "id": "43dd9947-3f9e-4cdf-893f-51b296031ac9",
   "metadata": {},
   "outputs": [],
   "source": [
    "lower_fence=Q1-(1.5*iqr)\n",
    "upper_fence=Q3+(1.5*iqr)"
   ]
  },
  {
   "cell_type": "code",
   "execution_count": 35,
   "id": "529ede03-5f0a-44d2-bce3-cdd12a2d5f0d",
   "metadata": {},
   "outputs": [
    {
     "name": "stdout",
     "output_type": "stream",
     "text": [
      "7.5 19.5\n"
     ]
    }
   ],
   "source": [
    "print(lower_fence,upper_fence)"
   ]
  },
  {
   "cell_type": "code",
   "execution_count": 37,
   "id": "2d99fff3-8f23-4fdc-9427-5b40b8cf8673",
   "metadata": {},
   "outputs": [
    {
     "data": {
      "text/plain": [
       "<AxesSubplot: >"
      ]
     },
     "execution_count": 37,
     "metadata": {},
     "output_type": "execute_result"
    },
    {
     "data": {
      "image/png": "[encoded data removed]",
      "text/plain": [
       "<Figure size 640x480 with 1 Axes>"
      ]
     },
     "metadata": {},
     "output_type": "display_data"
    }
   ],
   "source": [
    "import seaborn as sns\n",
    "sns.boxplot(dataset)"
   ]
  },
  {
   "cell_type": "code",
   "execution_count": null,
   "id": "f260532e-7d97-4476-9f1c-8a32be21aedb",
   "metadata": {},
   "outputs": [],
   "source": []
  }
 ],
 "metadata": {
  "kernelspec": {
   "display_name": "Python 3 (ipykernel)",
   "language": "python",
   "name": "python3"
  },
  "language_info": {
   "codemirror_mode": {
    "name": "ipython",
    "version": 3
   },
   "file_extension": ".py",
   "mimetype": "text/x-python",
   "name": "python",
   "nbconvert_exporter": "python",
   "pygments_lexer": "ipython3",
   "version": "3.10.6"
  }
 },
 "nbformat": 4,
 "nbformat_minor": 5
}
